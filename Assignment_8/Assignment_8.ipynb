{
  "nbformat": 4,
  "nbformat_minor": 0,
  "metadata": {
    "colab": {
      "provenance": [],
      "authorship_tag": "ABX9TyOkYwa4oNFWWhlXdk9IIu9T",
      "include_colab_link": true
    },
    "kernelspec": {
      "name": "python3",
      "display_name": "Python 3"
    },
    "language_info": {
      "name": "python"
    },
    "accelerator": "GPU",
    "gpuClass": "standard",
    "widgets": {
      "application/vnd.jupyter.widget-state+json": {
        "aa68dd1f49824ce0ac8daac634b94855": {
          "model_module": "@jupyter-widgets/controls",
          "model_name": "HBoxModel",
          "model_module_version": "1.5.0",
          "state": {
            "_dom_classes": [],
            "_model_module": "@jupyter-widgets/controls",
            "_model_module_version": "1.5.0",
            "_model_name": "HBoxModel",
            "_view_count": null,
            "_view_module": "@jupyter-widgets/controls",
            "_view_module_version": "1.5.0",
            "_view_name": "HBoxView",
            "box_style": "",
            "children": [
              "IPY_MODEL_032cbdabc3484c2594221bb56baafcf2",
              "IPY_MODEL_f6d02b5442a54d8eb679168ed4a45f7f",
              "IPY_MODEL_15ee1a08c6cc4eccb7f1b5d5563044d9"
            ],
            "layout": "IPY_MODEL_ad424094e440495cb37293c669c32fa2"
          }
        },
        "032cbdabc3484c2594221bb56baafcf2": {
          "model_module": "@jupyter-widgets/controls",
          "model_name": "HTMLModel",
          "model_module_version": "1.5.0",
          "state": {
            "_dom_classes": [],
            "_model_module": "@jupyter-widgets/controls",
            "_model_module_version": "1.5.0",
            "_model_name": "HTMLModel",
            "_view_count": null,
            "_view_module": "@jupyter-widgets/controls",
            "_view_module_version": "1.5.0",
            "_view_name": "HTMLView",
            "description": "",
            "description_tooltip": null,
            "layout": "IPY_MODEL_1015c69ef7cc46dea8b1a00503f092cc",
            "placeholder": "​",
            "style": "IPY_MODEL_29572e7d24e14e058386036a04d6bbf9",
            "value": " 81%"
          }
        },
        "f6d02b5442a54d8eb679168ed4a45f7f": {
          "model_module": "@jupyter-widgets/controls",
          "model_name": "FloatProgressModel",
          "model_module_version": "1.5.0",
          "state": {
            "_dom_classes": [],
            "_model_module": "@jupyter-widgets/controls",
            "_model_module_version": "1.5.0",
            "_model_name": "FloatProgressModel",
            "_view_count": null,
            "_view_module": "@jupyter-widgets/controls",
            "_view_module_version": "1.5.0",
            "_view_name": "ProgressView",
            "bar_style": "danger",
            "description": "",
            "description_tooltip": null,
            "layout": "IPY_MODEL_fe21e02a498c408db19baef835eb44f8",
            "max": 100,
            "min": 0,
            "orientation": "horizontal",
            "style": "IPY_MODEL_330e06197b1d44219e3ff59e737b7868",
            "value": 81
          }
        },
        "15ee1a08c6cc4eccb7f1b5d5563044d9": {
          "model_module": "@jupyter-widgets/controls",
          "model_name": "HTMLModel",
          "model_module_version": "1.5.0",
          "state": {
            "_dom_classes": [],
            "_model_module": "@jupyter-widgets/controls",
            "_model_module_version": "1.5.0",
            "_model_name": "HTMLModel",
            "_view_count": null,
            "_view_module": "@jupyter-widgets/controls",
            "_view_module_version": "1.5.0",
            "_view_name": "HTMLView",
            "description": "",
            "description_tooltip": null,
            "layout": "IPY_MODEL_42848dfa1590470aa78afd60c32027d4",
            "placeholder": "​",
            "style": "IPY_MODEL_fbe21e5501434462846135540b377e85",
            "value": " 81/100 [00:21&lt;00:05,  3.77it/s]"
          }
        },
        "ad424094e440495cb37293c669c32fa2": {
          "model_module": "@jupyter-widgets/base",
          "model_name": "LayoutModel",
          "model_module_version": "1.2.0",
          "state": {
            "_model_module": "@jupyter-widgets/base",
            "_model_module_version": "1.2.0",
            "_model_name": "LayoutModel",
            "_view_count": null,
            "_view_module": "@jupyter-widgets/base",
            "_view_module_version": "1.2.0",
            "_view_name": "LayoutView",
            "align_content": null,
            "align_items": null,
            "align_self": null,
            "border": null,
            "bottom": null,
            "display": null,
            "flex": null,
            "flex_flow": null,
            "grid_area": null,
            "grid_auto_columns": null,
            "grid_auto_flow": null,
            "grid_auto_rows": null,
            "grid_column": null,
            "grid_gap": null,
            "grid_row": null,
            "grid_template_areas": null,
            "grid_template_columns": null,
            "grid_template_rows": null,
            "height": null,
            "justify_content": null,
            "justify_items": null,
            "left": null,
            "margin": null,
            "max_height": null,
            "max_width": null,
            "min_height": null,
            "min_width": null,
            "object_fit": null,
            "object_position": null,
            "order": null,
            "overflow": null,
            "overflow_x": null,
            "overflow_y": null,
            "padding": null,
            "right": null,
            "top": null,
            "visibility": null,
            "width": null
          }
        },
        "1015c69ef7cc46dea8b1a00503f092cc": {
          "model_module": "@jupyter-widgets/base",
          "model_name": "LayoutModel",
          "model_module_version": "1.2.0",
          "state": {
            "_model_module": "@jupyter-widgets/base",
            "_model_module_version": "1.2.0",
            "_model_name": "LayoutModel",
            "_view_count": null,
            "_view_module": "@jupyter-widgets/base",
            "_view_module_version": "1.2.0",
            "_view_name": "LayoutView",
            "align_content": null,
            "align_items": null,
            "align_self": null,
            "border": null,
            "bottom": null,
            "display": null,
            "flex": null,
            "flex_flow": null,
            "grid_area": null,
            "grid_auto_columns": null,
            "grid_auto_flow": null,
            "grid_auto_rows": null,
            "grid_column": null,
            "grid_gap": null,
            "grid_row": null,
            "grid_template_areas": null,
            "grid_template_columns": null,
            "grid_template_rows": null,
            "height": null,
            "justify_content": null,
            "justify_items": null,
            "left": null,
            "margin": null,
            "max_height": null,
            "max_width": null,
            "min_height": null,
            "min_width": null,
            "object_fit": null,
            "object_position": null,
            "order": null,
            "overflow": null,
            "overflow_x": null,
            "overflow_y": null,
            "padding": null,
            "right": null,
            "top": null,
            "visibility": null,
            "width": null
          }
        },
        "29572e7d24e14e058386036a04d6bbf9": {
          "model_module": "@jupyter-widgets/controls",
          "model_name": "DescriptionStyleModel",
          "model_module_version": "1.5.0",
          "state": {
            "_model_module": "@jupyter-widgets/controls",
            "_model_module_version": "1.5.0",
            "_model_name": "DescriptionStyleModel",
            "_view_count": null,
            "_view_module": "@jupyter-widgets/base",
            "_view_module_version": "1.2.0",
            "_view_name": "StyleView",
            "description_width": ""
          }
        },
        "fe21e02a498c408db19baef835eb44f8": {
          "model_module": "@jupyter-widgets/base",
          "model_name": "LayoutModel",
          "model_module_version": "1.2.0",
          "state": {
            "_model_module": "@jupyter-widgets/base",
            "_model_module_version": "1.2.0",
            "_model_name": "LayoutModel",
            "_view_count": null,
            "_view_module": "@jupyter-widgets/base",
            "_view_module_version": "1.2.0",
            "_view_name": "LayoutView",
            "align_content": null,
            "align_items": null,
            "align_self": null,
            "border": null,
            "bottom": null,
            "display": null,
            "flex": null,
            "flex_flow": null,
            "grid_area": null,
            "grid_auto_columns": null,
            "grid_auto_flow": null,
            "grid_auto_rows": null,
            "grid_column": null,
            "grid_gap": null,
            "grid_row": null,
            "grid_template_areas": null,
            "grid_template_columns": null,
            "grid_template_rows": null,
            "height": null,
            "justify_content": null,
            "justify_items": null,
            "left": null,
            "margin": null,
            "max_height": null,
            "max_width": null,
            "min_height": null,
            "min_width": null,
            "object_fit": null,
            "object_position": null,
            "order": null,
            "overflow": null,
            "overflow_x": null,
            "overflow_y": null,
            "padding": null,
            "right": null,
            "top": null,
            "visibility": null,
            "width": null
          }
        },
        "330e06197b1d44219e3ff59e737b7868": {
          "model_module": "@jupyter-widgets/controls",
          "model_name": "ProgressStyleModel",
          "model_module_version": "1.5.0",
          "state": {
            "_model_module": "@jupyter-widgets/controls",
            "_model_module_version": "1.5.0",
            "_model_name": "ProgressStyleModel",
            "_view_count": null,
            "_view_module": "@jupyter-widgets/base",
            "_view_module_version": "1.2.0",
            "_view_name": "StyleView",
            "bar_color": null,
            "description_width": ""
          }
        },
        "42848dfa1590470aa78afd60c32027d4": {
          "model_module": "@jupyter-widgets/base",
          "model_name": "LayoutModel",
          "model_module_version": "1.2.0",
          "state": {
            "_model_module": "@jupyter-widgets/base",
            "_model_module_version": "1.2.0",
            "_model_name": "LayoutModel",
            "_view_count": null,
            "_view_module": "@jupyter-widgets/base",
            "_view_module_version": "1.2.0",
            "_view_name": "LayoutView",
            "align_content": null,
            "align_items": null,
            "align_self": null,
            "border": null,
            "bottom": null,
            "display": null,
            "flex": null,
            "flex_flow": null,
            "grid_area": null,
            "grid_auto_columns": null,
            "grid_auto_flow": null,
            "grid_auto_rows": null,
            "grid_column": null,
            "grid_gap": null,
            "grid_row": null,
            "grid_template_areas": null,
            "grid_template_columns": null,
            "grid_template_rows": null,
            "height": null,
            "justify_content": null,
            "justify_items": null,
            "left": null,
            "margin": null,
            "max_height": null,
            "max_width": null,
            "min_height": null,
            "min_width": null,
            "object_fit": null,
            "object_position": null,
            "order": null,
            "overflow": null,
            "overflow_x": null,
            "overflow_y": null,
            "padding": null,
            "right": null,
            "top": null,
            "visibility": null,
            "width": null
          }
        },
        "fbe21e5501434462846135540b377e85": {
          "model_module": "@jupyter-widgets/controls",
          "model_name": "DescriptionStyleModel",
          "model_module_version": "1.5.0",
          "state": {
            "_model_module": "@jupyter-widgets/controls",
            "_model_module_version": "1.5.0",
            "_model_name": "DescriptionStyleModel",
            "_view_count": null,
            "_view_module": "@jupyter-widgets/base",
            "_view_module_version": "1.2.0",
            "_view_name": "StyleView",
            "description_width": ""
          }
        }
      }
    }
  },
  "cells": [
    {
      "cell_type": "markdown",
      "metadata": {
        "id": "view-in-github",
        "colab_type": "text"
      },
      "source": [
        "<a href=\"https://colab.research.google.com/github/shariqfarhan/Explore/blob/master/Assignment_8.ipynb\" target=\"_parent\"><img src=\"https://colab.research.google.com/assets/colab-badge.svg\" alt=\"Open In Colab\"/></a>"
      ]
    },
    {
      "cell_type": "code",
      "execution_count": 2,
      "metadata": {
        "colab": {
          "base_uri": "https://localhost:8080/"
        },
        "id": "TTo-TWDcFSkh",
        "outputId": "3ae394ed-2d9b-4b71-ee34-bd06181d0a01"
      },
      "outputs": [
        {
          "output_type": "stream",
          "name": "stdout",
          "text": [
            "Cloning into 'EVA8-pytorch-cifar'...\n",
            "remote: Enumerating objects: 45, done.\u001b[K\n",
            "remote: Counting objects: 100% (45/45), done.\u001b[K\n",
            "remote: Compressing objects: 100% (40/40), done.\u001b[K\n",
            "remote: Total 45 (delta 17), reused 0 (delta 0), pack-reused 0\u001b[K\n",
            "Unpacking objects: 100% (45/45), 15.32 KiB | 1.39 MiB/s, done.\n"
          ]
        }
      ],
      "source": [
        "!git clone https://github.com/shariqfarhan/EVA8-pytorch-cifar"
      ]
    },
    {
      "cell_type": "code",
      "source": [
        "!pip install torchinfo torch_lr_finder grad-cam"
      ],
      "metadata": {
        "colab": {
          "base_uri": "https://localhost:8080/"
        },
        "id": "_ozABHk2FjYE",
        "outputId": "39e01ba2-9593-4e77-87c5-4ca9ee6b9a1e"
      },
      "execution_count": 3,
      "outputs": [
        {
          "output_type": "stream",
          "name": "stdout",
          "text": [
            "Looking in indexes: https://pypi.org/simple, https://us-python.pkg.dev/colab-wheels/public/simple/\n",
            "Collecting torchinfo\n",
            "  Downloading torchinfo-1.7.2-py3-none-any.whl (22 kB)\n",
            "Collecting torch_lr_finder\n",
            "  Downloading torch_lr_finder-0.2.1-py3-none-any.whl (11 kB)\n",
            "Collecting grad-cam\n",
            "  Downloading grad-cam-1.4.6.tar.gz (7.8 MB)\n",
            "\u001b[2K     \u001b[90m━━━━━━━━━━━━━━━━━━━━━━━━━━━━━━━━━━━━━━━━\u001b[0m \u001b[32m7.8/7.8 MB\u001b[0m \u001b[31m65.0 MB/s\u001b[0m eta \u001b[36m0:00:00\u001b[0m\n",
            "\u001b[?25h  Installing build dependencies ... \u001b[?25l\u001b[?25hdone\n",
            "  Getting requirements to build wheel ... \u001b[?25l\u001b[?25hdone\n",
            "  Preparing metadata (pyproject.toml) ... \u001b[?25l\u001b[?25hdone\n",
            "Requirement already satisfied: tqdm in /usr/local/lib/python3.9/dist-packages (from torch_lr_finder) (4.65.0)\n",
            "Requirement already satisfied: matplotlib in /usr/local/lib/python3.9/dist-packages (from torch_lr_finder) (3.7.1)\n",
            "Requirement already satisfied: torch>=0.4.1 in /usr/local/lib/python3.9/dist-packages (from torch_lr_finder) (2.0.0+cu118)\n",
            "Requirement already satisfied: numpy in /usr/local/lib/python3.9/dist-packages (from torch_lr_finder) (1.22.4)\n",
            "Requirement already satisfied: packaging in /usr/local/lib/python3.9/dist-packages (from torch_lr_finder) (23.0)\n",
            "Requirement already satisfied: Pillow in /usr/local/lib/python3.9/dist-packages (from grad-cam) (8.4.0)\n",
            "Requirement already satisfied: torchvision>=0.8.2 in /usr/local/lib/python3.9/dist-packages (from grad-cam) (0.15.1+cu118)\n",
            "Collecting ttach\n",
            "  Downloading ttach-0.0.3-py3-none-any.whl (9.8 kB)\n",
            "Requirement already satisfied: scikit-learn in /usr/local/lib/python3.9/dist-packages (from grad-cam) (1.2.2)\n",
            "Requirement already satisfied: opencv-python in /usr/local/lib/python3.9/dist-packages (from grad-cam) (4.7.0.72)\n",
            "Requirement already satisfied: networkx in /usr/local/lib/python3.9/dist-packages (from torch>=0.4.1->torch_lr_finder) (3.0)\n",
            "Requirement already satisfied: jinja2 in /usr/local/lib/python3.9/dist-packages (from torch>=0.4.1->torch_lr_finder) (3.1.2)\n",
            "Requirement already satisfied: typing-extensions in /usr/local/lib/python3.9/dist-packages (from torch>=0.4.1->torch_lr_finder) (4.5.0)\n",
            "Requirement already satisfied: filelock in /usr/local/lib/python3.9/dist-packages (from torch>=0.4.1->torch_lr_finder) (3.10.7)\n",
            "Requirement already satisfied: sympy in /usr/local/lib/python3.9/dist-packages (from torch>=0.4.1->torch_lr_finder) (1.11.1)\n",
            "Requirement already satisfied: triton==2.0.0 in /usr/local/lib/python3.9/dist-packages (from torch>=0.4.1->torch_lr_finder) (2.0.0)\n",
            "Requirement already satisfied: lit in /usr/local/lib/python3.9/dist-packages (from triton==2.0.0->torch>=0.4.1->torch_lr_finder) (16.0.0)\n",
            "Requirement already satisfied: cmake in /usr/local/lib/python3.9/dist-packages (from triton==2.0.0->torch>=0.4.1->torch_lr_finder) (3.25.2)\n",
            "Requirement already satisfied: requests in /usr/local/lib/python3.9/dist-packages (from torchvision>=0.8.2->grad-cam) (2.27.1)\n",
            "Requirement already satisfied: fonttools>=4.22.0 in /usr/local/lib/python3.9/dist-packages (from matplotlib->torch_lr_finder) (4.39.3)\n",
            "Requirement already satisfied: cycler>=0.10 in /usr/local/lib/python3.9/dist-packages (from matplotlib->torch_lr_finder) (0.11.0)\n",
            "Requirement already satisfied: python-dateutil>=2.7 in /usr/local/lib/python3.9/dist-packages (from matplotlib->torch_lr_finder) (2.8.2)\n",
            "Requirement already satisfied: pyparsing>=2.3.1 in /usr/local/lib/python3.9/dist-packages (from matplotlib->torch_lr_finder) (3.0.9)\n",
            "Requirement already satisfied: kiwisolver>=1.0.1 in /usr/local/lib/python3.9/dist-packages (from matplotlib->torch_lr_finder) (1.4.4)\n",
            "Requirement already satisfied: contourpy>=1.0.1 in /usr/local/lib/python3.9/dist-packages (from matplotlib->torch_lr_finder) (1.0.7)\n",
            "Requirement already satisfied: importlib-resources>=3.2.0 in /usr/local/lib/python3.9/dist-packages (from matplotlib->torch_lr_finder) (5.12.0)\n",
            "Requirement already satisfied: threadpoolctl>=2.0.0 in /usr/local/lib/python3.9/dist-packages (from scikit-learn->grad-cam) (3.1.0)\n",
            "Requirement already satisfied: joblib>=1.1.1 in /usr/local/lib/python3.9/dist-packages (from scikit-learn->grad-cam) (1.1.1)\n",
            "Requirement already satisfied: scipy>=1.3.2 in /usr/local/lib/python3.9/dist-packages (from scikit-learn->grad-cam) (1.10.1)\n",
            "Requirement already satisfied: zipp>=3.1.0 in /usr/local/lib/python3.9/dist-packages (from importlib-resources>=3.2.0->matplotlib->torch_lr_finder) (3.15.0)\n",
            "Requirement already satisfied: six>=1.5 in /usr/local/lib/python3.9/dist-packages (from python-dateutil>=2.7->matplotlib->torch_lr_finder) (1.16.0)\n",
            "Requirement already satisfied: MarkupSafe>=2.0 in /usr/local/lib/python3.9/dist-packages (from jinja2->torch>=0.4.1->torch_lr_finder) (2.1.2)\n",
            "Requirement already satisfied: idna<4,>=2.5 in /usr/local/lib/python3.9/dist-packages (from requests->torchvision>=0.8.2->grad-cam) (3.4)\n",
            "Requirement already satisfied: charset-normalizer~=2.0.0 in /usr/local/lib/python3.9/dist-packages (from requests->torchvision>=0.8.2->grad-cam) (2.0.12)\n",
            "Requirement already satisfied: certifi>=2017.4.17 in /usr/local/lib/python3.9/dist-packages (from requests->torchvision>=0.8.2->grad-cam) (2022.12.7)\n",
            "Requirement already satisfied: urllib3<1.27,>=1.21.1 in /usr/local/lib/python3.9/dist-packages (from requests->torchvision>=0.8.2->grad-cam) (1.26.15)\n",
            "Requirement already satisfied: mpmath>=0.19 in /usr/local/lib/python3.9/dist-packages (from sympy->torch>=0.4.1->torch_lr_finder) (1.3.0)\n",
            "Building wheels for collected packages: grad-cam\n",
            "  Building wheel for grad-cam (pyproject.toml) ... \u001b[?25l\u001b[?25hdone\n",
            "  Created wheel for grad-cam: filename=grad_cam-1.4.6-py3-none-any.whl size=38262 sha256=1dece053f5dacb5d9390a57b4ea6b6e23f3d00d38bed864ff8abe13de0bf5579\n",
            "  Stored in directory: /root/.cache/pip/wheels/9b/ae/bd/221d138b169c4867b2ae5c893474d0b23bae6e4750bc95bc55\n",
            "Successfully built grad-cam\n",
            "Installing collected packages: ttach, torchinfo, torch_lr_finder, grad-cam\n",
            "Successfully installed grad-cam-1.4.6 torch_lr_finder-0.2.1 torchinfo-1.7.2 ttach-0.0.3\n"
          ]
        }
      ]
    },
    {
      "cell_type": "code",
      "source": [
        "import os\n",
        "os.chdir('EVA8-pytorch-cifar')\n",
        "os.listdir()"
      ],
      "metadata": {
        "colab": {
          "base_uri": "https://localhost:8080/"
        },
        "id": "lT5YlOetFUfe",
        "outputId": "9c69c4f2-c24a-4775-b384-cdc7a8353195"
      },
      "execution_count": 7,
      "outputs": [
        {
          "output_type": "execute_result",
          "data": {
            "text/plain": [
              "['models', 'test_model.py', 'train.py', '.git', 'utils', 'README.md']"
            ]
          },
          "metadata": {},
          "execution_count": 7
        }
      ]
    },
    {
      "cell_type": "code",
      "source": [
        "%load_ext autoreload\n",
        "%autoreload 2\n",
        "\n",
        "import torch\n",
        "import torch.nn as nn\n",
        "import torch.nn.functional as F\n",
        "\n",
        "import torchvision\n",
        "from torchvision import datasets, transforms\n",
        "from torch.utils.data import Dataset, DataLoader\n",
        "import albumentations as A\n",
        "from torchinfo import summary\n",
        "from tqdm import tqdm\n",
        "\n",
        "import numpy as np\n",
        "import matplotlib.pyplot as plt\n",
        "\n",
        "\n",
        "\n",
        "from models import Custom_ResNet\n",
        "from utils.utils import get_mean_and_std, show_data_metrics, viz_data, show_images, show_model_summary\n",
        "from utils.utils import AlbumentationImageDataset, plot_train_test_acc_loss, plot_misclassified_images, denormalize, plot_gradcam\n",
        "from train import train\n",
        "from test_model import test, mis_classified_images"
      ],
      "metadata": {
        "colab": {
          "base_uri": "https://localhost:8080/"
        },
        "id": "RLhWRRIQFc0b",
        "outputId": "4f4c3d8b-5897-4f3c-9e64-ac962552ecfe"
      },
      "execution_count": 8,
      "outputs": [
        {
          "output_type": "stream",
          "name": "stdout",
          "text": [
            "The autoreload extension is already loaded. To reload it, use:\n",
            "  %reload_ext autoreload\n"
          ]
        },
        {
          "output_type": "stream",
          "name": "stderr",
          "text": [
            "/usr/local/lib/python3.9/dist-packages/torch_lr_finder/lr_finder.py:5: TqdmExperimentalWarning: Using `tqdm.autonotebook.tqdm` in notebook mode. Use `tqdm.tqdm` instead to force console mode (e.g. in jupyter console)\n",
            "  from tqdm.autonotebook import tqdm\n"
          ]
        }
      ]
    },
    {
      "cell_type": "code",
      "source": [],
      "metadata": {
        "id": "OOP0QAbXGQ8C"
      },
      "execution_count": 8,
      "outputs": []
    },
    {
      "cell_type": "code",
      "source": [
        "import ssl\n",
        "ssl._create_default_https_context = ssl._create_unverified_context\n",
        "\n",
        "exp = datasets.CIFAR10('./data', train = True, download = True)\n",
        "exp_data = exp.data\n",
        "\n",
        "show_data_metrics(exp_data)\n"
      ],
      "metadata": {
        "colab": {
          "base_uri": "https://localhost:8080/"
        },
        "id": "6IPuwsTLFfP3",
        "outputId": "473c943f-472a-4564-b444-c2e6a9ea3b43"
      },
      "execution_count": 9,
      "outputs": [
        {
          "output_type": "stream",
          "name": "stdout",
          "text": [
            "Downloading https://www.cs.toronto.edu/~kriz/cifar-10-python.tar.gz to ./data/cifar-10-python.tar.gz\n"
          ]
        },
        {
          "output_type": "stream",
          "name": "stderr",
          "text": [
            "100%|██████████| 170498071/170498071 [00:03<00:00, 49111978.12it/s]\n"
          ]
        },
        {
          "output_type": "stream",
          "name": "stdout",
          "text": [
            "Extracting ./data/cifar-10-python.tar.gz to ./data\n",
            "Train\n",
            "- Numpy Shape : (50000, 32, 32, 3)\n",
            "- min : [0. 0. 0.]\n",
            "- max : [1. 1. 1.]\n",
            "- mean : [0.49139968 0.48215841 0.44653091]\n",
            "- std. : [0.24703223 0.24348513 0.26158784]\n",
            "- var : [15.56135559 15.11767693 17.44919073]\n"
          ]
        }
      ]
    },
    {
      "cell_type": "code",
      "source": [
        "classes = ('plane', 'car', 'bird', 'cat',\n",
        "           'deer', 'dog', 'frog', 'horse', 'ship', 'truck')"
      ],
      "metadata": {
        "id": "ghgEXWK4I5eG"
      },
      "execution_count": 10,
      "outputs": []
    },
    {
      "cell_type": "code",
      "source": [
        "aug_dict = A.Sequential([\n",
        "                A.Normalize((0.49139968, 0.48215841, 0.44653091), (0.24703223, 0.24348513, 0.26158784)),\n",
        "                A.PadIfNeeded(min_height=40, min_width=40),\n",
        "                A.RandomCrop(32, 32),\n",
        "                A.HorizontalFlip(p=1),\n",
        "                A.CoarseDropout(max_holes=1, max_height=8, max_width=8, min_holes=1, min_height=8,\n",
        "                                min_width=8, fill_value=(0.49139968, 0.48215841, 0.44653091), mask_fill_value=None, always_apply=True)\n",
        "    ])\n",
        "show_images(exp,{\n",
        "    'Original Image' : None,\n",
        "    'Additional Padding' : A.PadIfNeeded(min_height=40, min_width=40), # Padding on both sides equal to 4 -> 32 + 2*4 = 40\n",
        "    'Random Crop' : A.RandomCrop(32, 32),\n",
        "    'Horizontal Flip' : A.HorizontalFlip(p=1),\n",
        "    'Cut Out' : A.CoarseDropout(max_holes=1, max_height=8, max_width=8, min_holes=1, min_height=8,\n",
        "                                min_width=8, fill_value=0.473363, mask_fill_value=None, always_apply=True),\n",
        "    'All' : aug_dict\n",
        "}, ncol = 5)"
      ],
      "metadata": {
        "colab": {
          "base_uri": "https://localhost:8080/",
          "height": 1000
        },
        "id": "I9tJhYphI8li",
        "outputId": "90ef80c4-7181-48a9-c257-c82dfc692f01"
      },
      "execution_count": 11,
      "outputs": [
        {
          "output_type": "stream",
          "name": "stderr",
          "text": [
            "WARNING:matplotlib.image:Clipping input data to the valid range for imshow with RGB data ([0..1] for floats or [0..255] for integers).\n",
            "WARNING:matplotlib.image:Clipping input data to the valid range for imshow with RGB data ([0..1] for floats or [0..255] for integers).\n",
            "WARNING:matplotlib.image:Clipping input data to the valid range for imshow with RGB data ([0..1] for floats or [0..255] for integers).\n",
            "WARNING:matplotlib.image:Clipping input data to the valid range for imshow with RGB data ([0..1] for floats or [0..255] for integers).\n"
          ]
        },
        {
          "output_type": "display_data",
          "data": {
            "text/plain": [
              "<Figure size 1800x1500 with 30 Axes>"
            ],
            "image/png": "[encoded data removed]"
          },
          "metadata": {}
        }
      ]
    },
    {
      "cell_type": "code",
      "source": [
        "# session_parameters()\n",
        "SEED = 1\n",
        "\n",
        "# CUDA\n",
        "cuda = torch.cuda.is_available()\n",
        "print(\"CUDA Available:\", cuda)\n",
        "\n",
        "# For Reproducibility\n",
        "torch.manual_seed(SEED)\n",
        "\n",
        "if cuda:\n",
        "    torch.cuda.manual_seed(SEED)\n",
        "    BATCH_SIZE = 512\n",
        "else:\n",
        "    BATCH_SIZE = 512"
      ],
      "metadata": {
        "colab": {
          "base_uri": "https://localhost:8080/"
        },
        "id": "r-1n9zYzI-2E",
        "outputId": "68cb78e2-afc8-4386-c28e-7d9079ee790f"
      },
      "execution_count": 12,
      "outputs": [
        {
          "output_type": "stream",
          "name": "stdout",
          "text": [
            "CUDA Available: True\n"
          ]
        }
      ]
    },
    {
      "cell_type": "code",
      "source": [
        "trainset = torchvision.datasets.CIFAR10(root='./data', train = True, \n",
        "                                        download = True)\n",
        "testset = torchvision.datasets.CIFAR10(root='./data', train = False, \n",
        "                                        download = True)\n",
        "\n",
        "train_loader = torch.utils.data.DataLoader(AlbumentationImageDataset(trainset, train = True),\n",
        "                                          batch_size = BATCH_SIZE, shuffle=True,num_workers = 2)\n",
        "test_loader = torch.utils.data.DataLoader(AlbumentationImageDataset(testset, train = False),\n",
        "                                          batch_size = BATCH_SIZE, shuffle=True,num_workers = 2)"
      ],
      "metadata": {
        "colab": {
          "base_uri": "https://localhost:8080/"
        },
        "id": "KS9M-TYmJA46",
        "outputId": "ab929300-3e6d-4cdc-d766-445ab41d89b7"
      },
      "execution_count": 13,
      "outputs": [
        {
          "output_type": "stream",
          "name": "stdout",
          "text": [
            "Files already downloaded and verified\n",
            "Files already downloaded and verified\n"
          ]
        }
      ]
    },
    {
      "cell_type": "code",
      "source": [
        "from models import *\n",
        "from models.Custom_ResNet import Net\n",
        "model = Net()\n",
        "use_cuda = torch.cuda.is_available()\n",
        "device = torch.device(\"cuda\" if use_cuda else \"cpu\")\n",
        "show_model_summary(model)"
      ],
      "metadata": {
        "colab": {
          "base_uri": "https://localhost:8080/"
        },
        "id": "r9QaQxZsJFxG",
        "outputId": "ef77168b-5b4c-4920-96f1-68ead961cfd8"
      },
      "execution_count": 14,
      "outputs": [
        {
          "output_type": "stream",
          "name": "stdout",
          "text": [
            "cuda\n",
            "==========================================================================================\n",
            "Layer (type:depth-idx)                   Output Shape              Param #\n",
            "==========================================================================================\n",
            "Net                                      [16, 10]                  66,560\n",
            "├─Sequential: 1-1                        [16, 64, 32, 32]          --\n",
            "│    └─Conv2d: 2-1                       [16, 64, 32, 32]          1,728\n",
            "│    └─BatchNorm2d: 2-2                  [16, 64, 32, 32]          128\n",
            "│    └─ReLU: 2-3                         [16, 64, 32, 32]          --\n",
            "│    └─Dropout: 2-4                      [16, 64, 32, 32]          --\n",
            "├─Sequential: 1-2                        [16, 128, 16, 16]         --\n",
            "│    └─Conv2d: 2-5                       [16, 128, 32, 32]         73,728\n",
            "│    └─MaxPool2d: 2-6                    [16, 128, 16, 16]         --\n",
            "│    └─BatchNorm2d: 2-7                  [16, 128, 16, 16]         256\n",
            "│    └─ReLU: 2-8                         [16, 128, 16, 16]         --\n",
            "│    └─Dropout: 2-9                      [16, 128, 16, 16]         --\n",
            "├─ResBlock: 1-3                          [16, 128, 16, 16]         --\n",
            "│    └─Conv2d: 2-10                      [16, 128, 16, 16]         73,728\n",
            "│    └─BatchNorm2d: 2-11                 [16, 128, 16, 16]         256\n",
            "│    └─Conv2d: 2-12                      [16, 128, 16, 16]         147,456\n",
            "│    └─BatchNorm2d: 2-13                 [16, 128, 16, 16]         256\n",
            "│    └─Sequential: 2-14                  [16, 128, 16, 16]         --\n",
            "│    │    └─Conv2d: 3-1                  [16, 128, 16, 16]         8,192\n",
            "│    │    └─BatchNorm2d: 3-2             [16, 128, 16, 16]         256\n",
            "├─Sequential: 1-4                        [16, 256, 8, 8]           --\n",
            "│    └─Conv2d: 2-15                      [16, 256, 16, 16]         294,912\n",
            "│    └─MaxPool2d: 2-16                   [16, 256, 8, 8]           --\n",
            "│    └─BatchNorm2d: 2-17                 [16, 256, 8, 8]           512\n",
            "│    └─ReLU: 2-18                        [16, 256, 8, 8]           --\n",
            "│    └─Dropout: 2-19                     [16, 256, 8, 8]           --\n",
            "├─Sequential: 1-5                        [16, 512, 4, 4]           --\n",
            "│    └─Conv2d: 2-20                      [16, 512, 8, 8]           1,179,648\n",
            "│    └─MaxPool2d: 2-21                   [16, 512, 4, 4]           --\n",
            "│    └─BatchNorm2d: 2-22                 [16, 512, 4, 4]           1,024\n",
            "│    └─ReLU: 2-23                        [16, 512, 4, 4]           --\n",
            "│    └─Dropout: 2-24                     [16, 512, 4, 4]           --\n",
            "├─ResBlock: 1-6                          [16, 512, 4, 4]           --\n",
            "│    └─Conv2d: 2-25                      [16, 512, 4, 4]           1,179,648\n",
            "│    └─BatchNorm2d: 2-26                 [16, 512, 4, 4]           1,024\n",
            "│    └─Conv2d: 2-27                      [16, 512, 4, 4]           2,359,296\n",
            "│    └─BatchNorm2d: 2-28                 [16, 512, 4, 4]           1,024\n",
            "│    └─Sequential: 2-29                  [16, 512, 4, 4]           --\n",
            "│    │    └─Conv2d: 3-3                  [16, 512, 4, 4]           131,072\n",
            "│    │    └─BatchNorm2d: 3-4             [16, 512, 4, 4]           1,024\n",
            "├─MaxPool2d: 1-7                         [16, 512, 1, 1]           --\n",
            "├─Linear: 1-8                            [16, 10]                  5,130\n",
            "==========================================================================================\n",
            "Total params: 5,526,858\n",
            "Trainable params: 5,526,858\n",
            "Non-trainable params: 0\n",
            "Total mult-adds (G): 5.53\n",
            "==========================================================================================\n",
            "Input size (MB): 0.20\n",
            "Forward/backward pass size (MB): 84.94\n",
            "Params size (MB): 21.84\n",
            "Estimated Total Size (MB): 106.97\n",
            "==========================================================================================\n"
          ]
        },
        {
          "output_type": "stream",
          "name": "stderr",
          "text": [
            "/usr/local/lib/python3.9/dist-packages/torchinfo/torchinfo.py:477: UserWarning: TypedStorage is deprecated. It will be removed in the future and UntypedStorage will be the only storage class. This should only matter to you if you are using storages directly.  To access UntypedStorage directly, use tensor.untyped_storage() instead of tensor.storage()\n",
            "  action_fn=lambda data: sys.getsizeof(data.storage()),\n",
            "/usr/local/lib/python3.9/dist-packages/torch/storage.py:665: UserWarning: TypedStorage is deprecated. It will be removed in the future and UntypedStorage will be the only storage class. This should only matter to you if you are using storages directly.  To access UntypedStorage directly, use tensor.untyped_storage() instead of tensor.storage()\n",
            "  return super().__sizeof__() + self.nbytes()\n"
          ]
        }
      ]
    },
    {
      "cell_type": "code",
      "source": [
        "import copy\n",
        "model = Net(drop=0.1).to(device)\n",
        "model_new = copy.deepcopy(model)"
      ],
      "metadata": {
        "id": "g1Vze8InJLS4"
      },
      "execution_count": 15,
      "outputs": []
    },
    {
      "cell_type": "code",
      "source": [
        "import torch.optim as optim\n",
        "from torch_lr_finder import LRFinder\n",
        "\n",
        "\n",
        "criterion = nn.CrossEntropyLoss()\n",
        "optimizer = torch.optim.SGD(model_new.parameters(), lr=0.01, momentum=0.9)\n",
        "lr_finder = LRFinder(model_new, optimizer, criterion, device=\"cuda\")\n",
        "lr_finder.range_test(train_loader, end_lr=100, num_iter=100, step_mode=\"exp\")\n",
        "lr_finder.plot()\n",
        "lr_finder.reset()"
      ],
      "metadata": {
        "colab": {
          "base_uri": "https://localhost:8080/",
          "height": 557,
          "referenced_widgets": [
            "aa68dd1f49824ce0ac8daac634b94855",
            "032cbdabc3484c2594221bb56baafcf2",
            "f6d02b5442a54d8eb679168ed4a45f7f",
            "15ee1a08c6cc4eccb7f1b5d5563044d9",
            "ad424094e440495cb37293c669c32fa2",
            "1015c69ef7cc46dea8b1a00503f092cc",
            "29572e7d24e14e058386036a04d6bbf9",
            "fe21e02a498c408db19baef835eb44f8",
            "330e06197b1d44219e3ff59e737b7868",
            "42848dfa1590470aa78afd60c32027d4",
            "fbe21e5501434462846135540b377e85"
          ]
        },
        "id": "-dGFUKU8JLsZ",
        "outputId": "c3bcdf1d-5f7f-4020-9478-f5844711cc3d"
      },
      "execution_count": 18,
      "outputs": [
        {
          "output_type": "display_data",
          "data": {
            "text/plain": [
              "  0%|          | 0/100 [00:00<?, ?it/s]"
            ],
            "application/vnd.jupyter.widget-view+json": {
              "version_major": 2,
              "version_minor": 0,
              "model_id": "aa68dd1f49824ce0ac8daac634b94855"
            }
          },
          "metadata": {}
        },
        {
          "output_type": "stream",
          "name": "stdout",
          "text": [
            "Stopping early, the loss has diverged\n",
            "Learning rate search finished. See the graph with {finder_name}.plot()\n",
            "LR suggestion: steepest gradient\n",
            "Suggested LR: 5.46E-01\n"
          ]
        },
        {
          "output_type": "display_data",
          "data": {
            "text/plain": [
              "<Figure size 640x480 with 1 Axes>"
            ],
            "image/png": "[encoded data removed]"
          },
          "metadata": {}
        }
      ]
    },
    {
      "cell_type": "code",
      "source": [
        "min_loss = min(lr_finder.history['loss'])\n",
        "ler_rate = lr_finder.history['lr'][np.argmin(lr_finder.history['loss'], axis=0)]\n",
        "print(\"Max LR is {}\".format(ler_rate))"
      ],
      "metadata": {
        "colab": {
          "base_uri": "https://localhost:8080/"
        },
        "id": "24Px9Ow8JOMq",
        "outputId": "d9c8c867-63b8-4da9-b9d1-2f6a5a57955d"
      },
      "execution_count": 19,
      "outputs": [
        {
          "output_type": "stream",
          "name": "stdout",
          "text": [
            "Max LR is 0.01\n"
          ]
        }
      ]
    },
    {
      "cell_type": "code",
      "source": [
        "import torch.optim as optim\n",
        "EPOCHS = 24\n",
        "\n",
        "optimizer = torch.optim.SGD(model.parameters(), lr=0.01, momentum=0.9)\n",
        "scheduler = torch.optim.lr_scheduler.OneCycleLR(optimizer, \n",
        "                                                max_lr=ler_rate,\n",
        "                                                steps_per_epoch=len(train_loader), \n",
        "                                                epochs=24,\n",
        "                                                pct_start=5/EPOCHS,\n",
        "                                                three_phase=False, \n",
        "                                                anneal_strategy='linear'\n",
        "                                                ) #final_div_factor=100,\n",
        "criterion = nn.CrossEntropyLoss()\n",
        "train_losses, train_acc, test_losses, test_acc = list(), list(), list(), list()\n",
        "for epoch in range(1, EPOCHS+1):\n",
        "    print(\"EPOCH: {} (LR: {})\".format(epoch, optimizer.param_groups[0]['lr']))\n",
        "    train(model, device, train_loader, optimizer, criterion, train_losses, train_acc,scheduler, l1_penalty = True, lambda_l1 = 1e-5)\n",
        "    test(model, device, test_loader, test_losses, test_acc)"
      ],
      "metadata": {
        "colab": {
          "base_uri": "https://localhost:8080/"
        },
        "id": "ZOmXygIsJQRQ",
        "outputId": "831e20aa-7105-4cf6-9fd8-a840dd9d8618"
      },
      "execution_count": 22,
      "outputs": [
        {
          "output_type": "stream",
          "name": "stdout",
          "text": [
            "EPOCH: 1 (LR: 0.0004)\n"
          ]
        },
        {
          "output_type": "stream",
          "name": "stderr",
          "text": [
            "Loss=2.3673577308654785 Batch_id=97 Accuracy=25.96: 100%|██████████| 98/98 [00:27<00:00,  3.50it/s]\n"
          ]
        },
        {
          "output_type": "stream",
          "name": "stdout",
          "text": [
            "\n",
            "Test set: Average loss: 1.5617, Accuracy: 4201/10000 (42.01%)\n",
            "\n",
            "EPOCH: 2 (LR: 0.002323926380368098)\n"
          ]
        },
        {
          "output_type": "stream",
          "name": "stderr",
          "text": [
            "Loss=2.1892008781433105 Batch_id=97 Accuracy=39.57: 100%|██████████| 98/98 [00:28<00:00,  3.44it/s]\n"
          ]
        },
        {
          "output_type": "stream",
          "name": "stdout",
          "text": [
            "\n",
            "Test set: Average loss: 1.4020, Accuracy: 4825/10000 (48.25%)\n",
            "\n",
            "EPOCH: 3 (LR: 0.004247852760736196)\n"
          ]
        },
        {
          "output_type": "stream",
          "name": "stderr",
          "text": [
            "Loss=2.2367911338806152 Batch_id=97 Accuracy=41.77: 100%|██████████| 98/98 [00:28<00:00,  3.42it/s]\n"
          ]
        },
        {
          "output_type": "stream",
          "name": "stdout",
          "text": [
            "\n",
            "Test set: Average loss: 2.0183, Accuracy: 4563/10000 (45.63%)\n",
            "\n",
            "EPOCH: 4 (LR: 0.0061717791411042945)\n"
          ]
        },
        {
          "output_type": "stream",
          "name": "stderr",
          "text": [
            "Loss=2.0869522094726562 Batch_id=97 Accuracy=45.66: 100%|██████████| 98/98 [00:27<00:00,  3.51it/s]\n"
          ]
        },
        {
          "output_type": "stream",
          "name": "stdout",
          "text": [
            "\n",
            "Test set: Average loss: 1.4928, Accuracy: 5012/10000 (50.12%)\n",
            "\n",
            "EPOCH: 5 (LR: 0.008095705521472393)\n"
          ]
        },
        {
          "output_type": "stream",
          "name": "stderr",
          "text": [
            "Loss=2.205122470855713 Batch_id=97 Accuracy=48.48: 100%|██████████| 98/98 [00:28<00:00,  3.45it/s]\n"
          ]
        },
        {
          "output_type": "stream",
          "name": "stdout",
          "text": [
            "\n",
            "Test set: Average loss: 1.1331, Accuracy: 6135/10000 (61.35%)\n",
            "\n",
            "EPOCH: 6 (LR: 0.009994629452201934)\n"
          ]
        },
        {
          "output_type": "stream",
          "name": "stderr",
          "text": [
            "Loss=2.060209274291992 Batch_id=97 Accuracy=51.03: 100%|██████████| 98/98 [00:28<00:00,  3.44it/s]\n"
          ]
        },
        {
          "output_type": "stream",
          "name": "stdout",
          "text": [
            "\n",
            "Test set: Average loss: 1.0601, Accuracy: 6439/10000 (64.39%)\n",
            "\n",
            "EPOCH: 7 (LR: 0.009468315767991408)\n"
          ]
        },
        {
          "output_type": "stream",
          "name": "stderr",
          "text": [
            "Loss=1.9966624975204468 Batch_id=97 Accuracy=56.19: 100%|██████████| 98/98 [00:28<00:00,  3.49it/s]\n"
          ]
        },
        {
          "output_type": "stream",
          "name": "stdout",
          "text": [
            "\n",
            "Test set: Average loss: 1.0376, Accuracy: 6493/10000 (64.93%)\n",
            "\n",
            "EPOCH: 8 (LR: 0.00894200208378088)\n"
          ]
        },
        {
          "output_type": "stream",
          "name": "stderr",
          "text": [
            "Loss=1.7902780771255493 Batch_id=97 Accuracy=58.12: 100%|██████████| 98/98 [00:28<00:00,  3.45it/s]\n"
          ]
        },
        {
          "output_type": "stream",
          "name": "stdout",
          "text": [
            "\n",
            "Test set: Average loss: 1.0328, Accuracy: 6700/10000 (67.00%)\n",
            "\n",
            "EPOCH: 9 (LR: 0.008415688399570355)\n"
          ]
        },
        {
          "output_type": "stream",
          "name": "stderr",
          "text": [
            "Loss=1.8230100870132446 Batch_id=97 Accuracy=59.86: 100%|██████████| 98/98 [00:28<00:00,  3.46it/s]\n"
          ]
        },
        {
          "output_type": "stream",
          "name": "stdout",
          "text": [
            "\n",
            "Test set: Average loss: 0.7618, Accuracy: 7344/10000 (73.44%)\n",
            "\n",
            "EPOCH: 10 (LR: 0.007889374715359828)\n"
          ]
        },
        {
          "output_type": "stream",
          "name": "stderr",
          "text": [
            "Loss=1.7145123481750488 Batch_id=97 Accuracy=61.09: 100%|██████████| 98/98 [00:28<00:00,  3.48it/s]\n"
          ]
        },
        {
          "output_type": "stream",
          "name": "stdout",
          "text": [
            "\n",
            "Test set: Average loss: 0.7796, Accuracy: 7361/10000 (73.61%)\n",
            "\n",
            "EPOCH: 11 (LR: 0.007363061031149302)\n"
          ]
        },
        {
          "output_type": "stream",
          "name": "stderr",
          "text": [
            "Loss=1.5972459316253662 Batch_id=97 Accuracy=63.01: 100%|██████████| 98/98 [00:28<00:00,  3.46it/s]\n"
          ]
        },
        {
          "output_type": "stream",
          "name": "stdout",
          "text": [
            "\n",
            "Test set: Average loss: 0.7783, Accuracy: 7386/10000 (73.86%)\n",
            "\n",
            "EPOCH: 12 (LR: 0.006836747346938775)\n"
          ]
        },
        {
          "output_type": "stream",
          "name": "stderr",
          "text": [
            "Loss=1.5847711563110352 Batch_id=97 Accuracy=64.00: 100%|██████████| 98/98 [00:28<00:00,  3.46it/s]\n"
          ]
        },
        {
          "output_type": "stream",
          "name": "stdout",
          "text": [
            "\n",
            "Test set: Average loss: 0.7419, Accuracy: 7510/10000 (75.10%)\n",
            "\n",
            "EPOCH: 13 (LR: 0.00631043366272825)\n"
          ]
        },
        {
          "output_type": "stream",
          "name": "stderr",
          "text": [
            "Loss=1.5906178951263428 Batch_id=97 Accuracy=65.37: 100%|██████████| 98/98 [00:28<00:00,  3.47it/s]\n"
          ]
        },
        {
          "output_type": "stream",
          "name": "stdout",
          "text": [
            "\n",
            "Test set: Average loss: 0.7626, Accuracy: 7453/10000 (74.53%)\n",
            "\n",
            "EPOCH: 14 (LR: 0.0057841199785177225)\n"
          ]
        },
        {
          "output_type": "stream",
          "name": "stderr",
          "text": [
            "Loss=1.6446447372436523 Batch_id=97 Accuracy=65.99: 100%|██████████| 98/98 [00:28<00:00,  3.44it/s]\n"
          ]
        },
        {
          "output_type": "stream",
          "name": "stdout",
          "text": [
            "\n",
            "Test set: Average loss: 0.7080, Accuracy: 7646/10000 (76.46%)\n",
            "\n",
            "EPOCH: 15 (LR: 0.005257806294307196)\n"
          ]
        },
        {
          "output_type": "stream",
          "name": "stderr",
          "text": [
            "Loss=1.6105029582977295 Batch_id=97 Accuracy=67.37: 100%|██████████| 98/98 [00:28<00:00,  3.46it/s]\n"
          ]
        },
        {
          "output_type": "stream",
          "name": "stdout",
          "text": [
            "\n",
            "Test set: Average loss: 0.6350, Accuracy: 7857/10000 (78.57%)\n",
            "\n",
            "EPOCH: 16 (LR: 0.004731492610096671)\n"
          ]
        },
        {
          "output_type": "stream",
          "name": "stderr",
          "text": [
            "Loss=1.6064486503601074 Batch_id=97 Accuracy=67.80: 100%|██████████| 98/98 [00:28<00:00,  3.46it/s]\n"
          ]
        },
        {
          "output_type": "stream",
          "name": "stdout",
          "text": [
            "\n",
            "Test set: Average loss: 0.6398, Accuracy: 7829/10000 (78.29%)\n",
            "\n",
            "EPOCH: 17 (LR: 0.004205178925886144)\n"
          ]
        },
        {
          "output_type": "stream",
          "name": "stderr",
          "text": [
            "Loss=1.3985605239868164 Batch_id=97 Accuracy=68.93: 100%|██████████| 98/98 [00:28<00:00,  3.42it/s]\n"
          ]
        },
        {
          "output_type": "stream",
          "name": "stdout",
          "text": [
            "\n",
            "Test set: Average loss: 0.6133, Accuracy: 7920/10000 (79.20%)\n",
            "\n",
            "EPOCH: 18 (LR: 0.003678865241675618)\n"
          ]
        },
        {
          "output_type": "stream",
          "name": "stderr",
          "text": [
            "Loss=1.4219648838043213 Batch_id=97 Accuracy=69.65: 100%|██████████| 98/98 [00:28<00:00,  3.47it/s]\n"
          ]
        },
        {
          "output_type": "stream",
          "name": "stdout",
          "text": [
            "\n",
            "Test set: Average loss: 0.5675, Accuracy: 8075/10000 (80.75%)\n",
            "\n",
            "EPOCH: 19 (LR: 0.0031525515574650905)\n"
          ]
        },
        {
          "output_type": "stream",
          "name": "stderr",
          "text": [
            "Loss=1.409639596939087 Batch_id=97 Accuracy=70.64: 100%|██████████| 98/98 [00:28<00:00,  3.48it/s]\n"
          ]
        },
        {
          "output_type": "stream",
          "name": "stdout",
          "text": [
            "\n",
            "Test set: Average loss: 0.5829, Accuracy: 8053/10000 (80.53%)\n",
            "\n",
            "EPOCH: 20 (LR: 0.002626237873254565)\n"
          ]
        },
        {
          "output_type": "stream",
          "name": "stderr",
          "text": [
            "Loss=1.3928968906402588 Batch_id=97 Accuracy=71.71: 100%|██████████| 98/98 [00:28<00:00,  3.47it/s]\n"
          ]
        },
        {
          "output_type": "stream",
          "name": "stdout",
          "text": [
            "\n",
            "Test set: Average loss: 0.5361, Accuracy: 8213/10000 (82.13%)\n",
            "\n",
            "EPOCH: 21 (LR: 0.0020999241890440386)\n"
          ]
        },
        {
          "output_type": "stream",
          "name": "stderr",
          "text": [
            "Loss=1.464630126953125 Batch_id=97 Accuracy=71.56: 100%|██████████| 98/98 [00:28<00:00,  3.45it/s]\n"
          ]
        },
        {
          "output_type": "stream",
          "name": "stdout",
          "text": [
            "\n",
            "Test set: Average loss: 0.5421, Accuracy: 8204/10000 (82.04%)\n",
            "\n",
            "EPOCH: 22 (LR: 0.0015736105048335131)\n"
          ]
        },
        {
          "output_type": "stream",
          "name": "stderr",
          "text": [
            "Loss=1.3937873840332031 Batch_id=97 Accuracy=72.57: 100%|██████████| 98/98 [00:28<00:00,  3.46it/s]\n"
          ]
        },
        {
          "output_type": "stream",
          "name": "stdout",
          "text": [
            "\n",
            "Test set: Average loss: 0.5167, Accuracy: 8303/10000 (83.03%)\n",
            "\n",
            "EPOCH: 23 (LR: 0.0010472968206229859)\n"
          ]
        },
        {
          "output_type": "stream",
          "name": "stderr",
          "text": [
            "Loss=1.3393802642822266 Batch_id=97 Accuracy=73.34: 100%|██████████| 98/98 [00:28<00:00,  3.47it/s]\n"
          ]
        },
        {
          "output_type": "stream",
          "name": "stdout",
          "text": [
            "\n",
            "Test set: Average loss: 0.5087, Accuracy: 8314/10000 (83.14%)\n",
            "\n",
            "EPOCH: 24 (LR: 0.0005209831364124604)\n"
          ]
        },
        {
          "output_type": "stream",
          "name": "stderr",
          "text": [
            "Loss=1.3247623443603516 Batch_id=97 Accuracy=73.69: 100%|██████████| 98/98 [00:28<00:00,  3.47it/s]\n"
          ]
        },
        {
          "output_type": "stream",
          "name": "stdout",
          "text": [
            "\n",
            "Test set: Average loss: 0.4964, Accuracy: 8347/10000 (83.47%)\n",
            "\n"
          ]
        }
      ]
    },
    {
      "cell_type": "code",
      "source": [],
      "metadata": {
        "id": "GS-F1MThJbkX"
      },
      "execution_count": null,
      "outputs": []
    }
  ]
}
